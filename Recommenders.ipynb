{
 "cells": [
  {
   "cell_type": "code",
   "execution_count": 1,
   "metadata": {},
   "outputs": [],
   "source": [
    "import pandas as pd\n",
    "from sklearn.metrics.pairwise import cosine_similarity"
   ]
  },
  {
   "cell_type": "markdown",
   "metadata": {},
   "source": [
    "Import data"
   ]
  },
  {
   "cell_type": "code",
   "execution_count": 2,
   "metadata": {},
   "outputs": [],
   "source": [
    "csv_file_path_movies = r'C:\\Users\\gusta\\Documents\\Data Science Bootcamp\\Data Science\\Chapter 8\\Data\\ml-latest-small\\movies.csv'\n",
    "csv_file_path_ratings = r'C:\\Users\\gusta\\Documents\\Data Science Bootcamp\\Data Science\\Chapter 8\\Data\\ml-latest-small\\ratings.csv'\n",
    "csv_file_path_tags = r'C:\\Users\\gusta\\Documents\\Data Science Bootcamp\\Data Science\\Chapter 8\\Data\\ml-latest-small\\tags.csv'\n",
    "csv_file_path_links = r'C:\\Users\\gusta\\Documents\\Data Science Bootcamp\\Data Science\\Chapter 8\\Data\\ml-latest-small\\links.csv'\n",
    "\n",
    "movies_df = pd.read_csv(csv_file_path_movies)\n",
    "ratings_df = pd.read_csv(csv_file_path_ratings)\n",
    "tags_df = pd.read_csv(csv_file_path_tags)\n",
    "links_df = pd.read_csv(csv_file_path_links)"
   ]
  },
  {
   "cell_type": "code",
   "execution_count": 3,
   "metadata": {},
   "outputs": [
    {
     "data": {
      "text/html": [
       "<div>\n",
       "<style scoped>\n",
       "    .dataframe tbody tr th:only-of-type {\n",
       "        vertical-align: middle;\n",
       "    }\n",
       "\n",
       "    .dataframe tbody tr th {\n",
       "        vertical-align: top;\n",
       "    }\n",
       "\n",
       "    .dataframe thead th {\n",
       "        text-align: right;\n",
       "    }\n",
       "</style>\n",
       "<table border=\"1\" class=\"dataframe\">\n",
       "  <thead>\n",
       "    <tr style=\"text-align: right;\">\n",
       "      <th></th>\n",
       "      <th>movieId</th>\n",
       "      <th>title</th>\n",
       "      <th>genres</th>\n",
       "    </tr>\n",
       "  </thead>\n",
       "  <tbody>\n",
       "    <tr>\n",
       "      <th>0</th>\n",
       "      <td>1</td>\n",
       "      <td>Toy Story (1995)</td>\n",
       "      <td>Adventure|Animation|Children|Comedy|Fantasy</td>\n",
       "    </tr>\n",
       "    <tr>\n",
       "      <th>1</th>\n",
       "      <td>2</td>\n",
       "      <td>Jumanji (1995)</td>\n",
       "      <td>Adventure|Children|Fantasy</td>\n",
       "    </tr>\n",
       "    <tr>\n",
       "      <th>2</th>\n",
       "      <td>3</td>\n",
       "      <td>Grumpier Old Men (1995)</td>\n",
       "      <td>Comedy|Romance</td>\n",
       "    </tr>\n",
       "    <tr>\n",
       "      <th>3</th>\n",
       "      <td>4</td>\n",
       "      <td>Waiting to Exhale (1995)</td>\n",
       "      <td>Comedy|Drama|Romance</td>\n",
       "    </tr>\n",
       "    <tr>\n",
       "      <th>4</th>\n",
       "      <td>5</td>\n",
       "      <td>Father of the Bride Part II (1995)</td>\n",
       "      <td>Comedy</td>\n",
       "    </tr>\n",
       "  </tbody>\n",
       "</table>\n",
       "</div>"
      ],
      "text/plain": [
       "   movieId                               title  \\\n",
       "0        1                    Toy Story (1995)   \n",
       "1        2                      Jumanji (1995)   \n",
       "2        3             Grumpier Old Men (1995)   \n",
       "3        4            Waiting to Exhale (1995)   \n",
       "4        5  Father of the Bride Part II (1995)   \n",
       "\n",
       "                                        genres  \n",
       "0  Adventure|Animation|Children|Comedy|Fantasy  \n",
       "1                   Adventure|Children|Fantasy  \n",
       "2                               Comedy|Romance  \n",
       "3                         Comedy|Drama|Romance  \n",
       "4                                       Comedy  "
      ]
     },
     "execution_count": 3,
     "metadata": {},
     "output_type": "execute_result"
    }
   ],
   "source": [
    "movies_df.head()"
   ]
  },
  {
   "cell_type": "code",
   "execution_count": 4,
   "metadata": {},
   "outputs": [
    {
     "data": {
      "text/html": [
       "<div>\n",
       "<style scoped>\n",
       "    .dataframe tbody tr th:only-of-type {\n",
       "        vertical-align: middle;\n",
       "    }\n",
       "\n",
       "    .dataframe tbody tr th {\n",
       "        vertical-align: top;\n",
       "    }\n",
       "\n",
       "    .dataframe thead th {\n",
       "        text-align: right;\n",
       "    }\n",
       "</style>\n",
       "<table border=\"1\" class=\"dataframe\">\n",
       "  <thead>\n",
       "    <tr style=\"text-align: right;\">\n",
       "      <th></th>\n",
       "      <th>userId</th>\n",
       "      <th>movieId</th>\n",
       "      <th>rating</th>\n",
       "      <th>timestamp</th>\n",
       "    </tr>\n",
       "  </thead>\n",
       "  <tbody>\n",
       "    <tr>\n",
       "      <th>0</th>\n",
       "      <td>1</td>\n",
       "      <td>1</td>\n",
       "      <td>4.0</td>\n",
       "      <td>964982703</td>\n",
       "    </tr>\n",
       "    <tr>\n",
       "      <th>1</th>\n",
       "      <td>1</td>\n",
       "      <td>3</td>\n",
       "      <td>4.0</td>\n",
       "      <td>964981247</td>\n",
       "    </tr>\n",
       "    <tr>\n",
       "      <th>2</th>\n",
       "      <td>1</td>\n",
       "      <td>6</td>\n",
       "      <td>4.0</td>\n",
       "      <td>964982224</td>\n",
       "    </tr>\n",
       "    <tr>\n",
       "      <th>3</th>\n",
       "      <td>1</td>\n",
       "      <td>47</td>\n",
       "      <td>5.0</td>\n",
       "      <td>964983815</td>\n",
       "    </tr>\n",
       "    <tr>\n",
       "      <th>4</th>\n",
       "      <td>1</td>\n",
       "      <td>50</td>\n",
       "      <td>5.0</td>\n",
       "      <td>964982931</td>\n",
       "    </tr>\n",
       "  </tbody>\n",
       "</table>\n",
       "</div>"
      ],
      "text/plain": [
       "   userId  movieId  rating  timestamp\n",
       "0       1        1     4.0  964982703\n",
       "1       1        3     4.0  964981247\n",
       "2       1        6     4.0  964982224\n",
       "3       1       47     5.0  964983815\n",
       "4       1       50     5.0  964982931"
      ]
     },
     "execution_count": 4,
     "metadata": {},
     "output_type": "execute_result"
    }
   ],
   "source": [
    "ratings_df.head()"
   ]
  },
  {
   "cell_type": "code",
   "execution_count": 5,
   "metadata": {},
   "outputs": [
    {
     "data": {
      "text/html": [
       "<div>\n",
       "<style scoped>\n",
       "    .dataframe tbody tr th:only-of-type {\n",
       "        vertical-align: middle;\n",
       "    }\n",
       "\n",
       "    .dataframe tbody tr th {\n",
       "        vertical-align: top;\n",
       "    }\n",
       "\n",
       "    .dataframe thead th {\n",
       "        text-align: right;\n",
       "    }\n",
       "</style>\n",
       "<table border=\"1\" class=\"dataframe\">\n",
       "  <thead>\n",
       "    <tr style=\"text-align: right;\">\n",
       "      <th></th>\n",
       "      <th>userId</th>\n",
       "      <th>movieId</th>\n",
       "      <th>tag</th>\n",
       "      <th>timestamp</th>\n",
       "    </tr>\n",
       "  </thead>\n",
       "  <tbody>\n",
       "    <tr>\n",
       "      <th>0</th>\n",
       "      <td>2</td>\n",
       "      <td>60756</td>\n",
       "      <td>funny</td>\n",
       "      <td>1445714994</td>\n",
       "    </tr>\n",
       "    <tr>\n",
       "      <th>1</th>\n",
       "      <td>2</td>\n",
       "      <td>60756</td>\n",
       "      <td>Highly quotable</td>\n",
       "      <td>1445714996</td>\n",
       "    </tr>\n",
       "    <tr>\n",
       "      <th>2</th>\n",
       "      <td>2</td>\n",
       "      <td>60756</td>\n",
       "      <td>will ferrell</td>\n",
       "      <td>1445714992</td>\n",
       "    </tr>\n",
       "    <tr>\n",
       "      <th>3</th>\n",
       "      <td>2</td>\n",
       "      <td>89774</td>\n",
       "      <td>Boxing story</td>\n",
       "      <td>1445715207</td>\n",
       "    </tr>\n",
       "    <tr>\n",
       "      <th>4</th>\n",
       "      <td>2</td>\n",
       "      <td>89774</td>\n",
       "      <td>MMA</td>\n",
       "      <td>1445715200</td>\n",
       "    </tr>\n",
       "  </tbody>\n",
       "</table>\n",
       "</div>"
      ],
      "text/plain": [
       "   userId  movieId              tag   timestamp\n",
       "0       2    60756            funny  1445714994\n",
       "1       2    60756  Highly quotable  1445714996\n",
       "2       2    60756     will ferrell  1445714992\n",
       "3       2    89774     Boxing story  1445715207\n",
       "4       2    89774              MMA  1445715200"
      ]
     },
     "execution_count": 5,
     "metadata": {},
     "output_type": "execute_result"
    }
   ],
   "source": [
    "tags_df.head()"
   ]
  },
  {
   "cell_type": "code",
   "execution_count": 6,
   "metadata": {},
   "outputs": [
    {
     "data": {
      "text/html": [
       "<div>\n",
       "<style scoped>\n",
       "    .dataframe tbody tr th:only-of-type {\n",
       "        vertical-align: middle;\n",
       "    }\n",
       "\n",
       "    .dataframe tbody tr th {\n",
       "        vertical-align: top;\n",
       "    }\n",
       "\n",
       "    .dataframe thead th {\n",
       "        text-align: right;\n",
       "    }\n",
       "</style>\n",
       "<table border=\"1\" class=\"dataframe\">\n",
       "  <thead>\n",
       "    <tr style=\"text-align: right;\">\n",
       "      <th></th>\n",
       "      <th>movieId</th>\n",
       "      <th>imdbId</th>\n",
       "      <th>tmdbId</th>\n",
       "    </tr>\n",
       "  </thead>\n",
       "  <tbody>\n",
       "    <tr>\n",
       "      <th>0</th>\n",
       "      <td>1</td>\n",
       "      <td>114709</td>\n",
       "      <td>862.0</td>\n",
       "    </tr>\n",
       "    <tr>\n",
       "      <th>1</th>\n",
       "      <td>2</td>\n",
       "      <td>113497</td>\n",
       "      <td>8844.0</td>\n",
       "    </tr>\n",
       "    <tr>\n",
       "      <th>2</th>\n",
       "      <td>3</td>\n",
       "      <td>113228</td>\n",
       "      <td>15602.0</td>\n",
       "    </tr>\n",
       "    <tr>\n",
       "      <th>3</th>\n",
       "      <td>4</td>\n",
       "      <td>114885</td>\n",
       "      <td>31357.0</td>\n",
       "    </tr>\n",
       "    <tr>\n",
       "      <th>4</th>\n",
       "      <td>5</td>\n",
       "      <td>113041</td>\n",
       "      <td>11862.0</td>\n",
       "    </tr>\n",
       "  </tbody>\n",
       "</table>\n",
       "</div>"
      ],
      "text/plain": [
       "   movieId  imdbId   tmdbId\n",
       "0        1  114709    862.0\n",
       "1        2  113497   8844.0\n",
       "2        3  113228  15602.0\n",
       "3        4  114885  31357.0\n",
       "4        5  113041  11862.0"
      ]
     },
     "execution_count": 6,
     "metadata": {},
     "output_type": "execute_result"
    }
   ],
   "source": [
    "links_df.head()"
   ]
  },
  {
   "cell_type": "markdown",
   "metadata": {},
   "source": [
    "# Popularity recommender"
   ]
  },
  {
   "cell_type": "code",
   "execution_count": 7,
   "metadata": {},
   "outputs": [
    {
     "data": {
      "text/html": [
       "<div>\n",
       "<style scoped>\n",
       "    .dataframe tbody tr th:only-of-type {\n",
       "        vertical-align: middle;\n",
       "    }\n",
       "\n",
       "    .dataframe tbody tr th {\n",
       "        vertical-align: top;\n",
       "    }\n",
       "\n",
       "    .dataframe thead th {\n",
       "        text-align: right;\n",
       "    }\n",
       "</style>\n",
       "<table border=\"1\" class=\"dataframe\">\n",
       "  <thead>\n",
       "    <tr style=\"text-align: right;\">\n",
       "      <th></th>\n",
       "      <th>movieId</th>\n",
       "      <th>mean</th>\n",
       "      <th>count</th>\n",
       "    </tr>\n",
       "  </thead>\n",
       "  <tbody>\n",
       "    <tr>\n",
       "      <th>48</th>\n",
       "      <td>53</td>\n",
       "      <td>5.0</td>\n",
       "      <td>2</td>\n",
       "    </tr>\n",
       "    <tr>\n",
       "      <th>87</th>\n",
       "      <td>99</td>\n",
       "      <td>5.0</td>\n",
       "      <td>2</td>\n",
       "    </tr>\n",
       "    <tr>\n",
       "      <th>869</th>\n",
       "      <td>1151</td>\n",
       "      <td>5.0</td>\n",
       "      <td>2</td>\n",
       "    </tr>\n",
       "    <tr>\n",
       "      <th>2593</th>\n",
       "      <td>3473</td>\n",
       "      <td>5.0</td>\n",
       "      <td>2</td>\n",
       "    </tr>\n",
       "    <tr>\n",
       "      <th>4384</th>\n",
       "      <td>6442</td>\n",
       "      <td>5.0</td>\n",
       "      <td>2</td>\n",
       "    </tr>\n",
       "  </tbody>\n",
       "</table>\n",
       "</div>"
      ],
      "text/plain": [
       "      movieId  mean  count\n",
       "48         53   5.0      2\n",
       "87         99   5.0      2\n",
       "869      1151   5.0      2\n",
       "2593     3473   5.0      2\n",
       "4384     6442   5.0      2"
      ]
     },
     "execution_count": 7,
     "metadata": {},
     "output_type": "execute_result"
    }
   ],
   "source": [
    "rating_count_df = ratings_df.groupby('movieId')['rating'].agg(['mean', 'count']).reset_index()\n",
    "rating_count_df.nlargest(5, ['mean', 'count'])"
   ]
  },
  {
   "cell_type": "code",
   "execution_count": 8,
   "metadata": {},
   "outputs": [
    {
     "data": {
      "text/html": [
       "<div>\n",
       "<style scoped>\n",
       "    .dataframe tbody tr th:only-of-type {\n",
       "        vertical-align: middle;\n",
       "    }\n",
       "\n",
       "    .dataframe tbody tr th {\n",
       "        vertical-align: top;\n",
       "    }\n",
       "\n",
       "    .dataframe thead th {\n",
       "        text-align: right;\n",
       "    }\n",
       "</style>\n",
       "<table border=\"1\" class=\"dataframe\">\n",
       "  <thead>\n",
       "    <tr style=\"text-align: right;\">\n",
       "      <th></th>\n",
       "      <th>movieId</th>\n",
       "      <th>mean</th>\n",
       "      <th>count</th>\n",
       "    </tr>\n",
       "  </thead>\n",
       "  <tbody>\n",
       "    <tr>\n",
       "      <th>314</th>\n",
       "      <td>356</td>\n",
       "      <td>4.164134</td>\n",
       "      <td>329</td>\n",
       "    </tr>\n",
       "    <tr>\n",
       "      <th>277</th>\n",
       "      <td>318</td>\n",
       "      <td>4.429022</td>\n",
       "      <td>317</td>\n",
       "    </tr>\n",
       "    <tr>\n",
       "      <th>257</th>\n",
       "      <td>296</td>\n",
       "      <td>4.197068</td>\n",
       "      <td>307</td>\n",
       "    </tr>\n",
       "    <tr>\n",
       "      <th>510</th>\n",
       "      <td>593</td>\n",
       "      <td>4.161290</td>\n",
       "      <td>279</td>\n",
       "    </tr>\n",
       "    <tr>\n",
       "      <th>1938</th>\n",
       "      <td>2571</td>\n",
       "      <td>4.192446</td>\n",
       "      <td>278</td>\n",
       "    </tr>\n",
       "  </tbody>\n",
       "</table>\n",
       "</div>"
      ],
      "text/plain": [
       "      movieId      mean  count\n",
       "314       356  4.164134    329\n",
       "277       318  4.429022    317\n",
       "257       296  4.197068    307\n",
       "510       593  4.161290    279\n",
       "1938     2571  4.192446    278"
      ]
     },
     "execution_count": 8,
     "metadata": {},
     "output_type": "execute_result"
    }
   ],
   "source": [
    "rating_count_df.sort_values(by=['count', 'mean'], ascending=False).head(5)"
   ]
  },
  {
   "cell_type": "code",
   "execution_count": 10,
   "metadata": {},
   "outputs": [
    {
     "data": {
      "text/html": [
       "<div>\n",
       "<style scoped>\n",
       "    .dataframe tbody tr th:only-of-type {\n",
       "        vertical-align: middle;\n",
       "    }\n",
       "\n",
       "    .dataframe tbody tr th {\n",
       "        vertical-align: top;\n",
       "    }\n",
       "\n",
       "    .dataframe thead th {\n",
       "        text-align: right;\n",
       "    }\n",
       "</style>\n",
       "<table border=\"1\" class=\"dataframe\">\n",
       "  <thead>\n",
       "    <tr style=\"text-align: right;\">\n",
       "      <th></th>\n",
       "      <th>movieId</th>\n",
       "      <th>title</th>\n",
       "      <th>genres</th>\n",
       "      <th>mean_rating</th>\n",
       "    </tr>\n",
       "  </thead>\n",
       "  <tbody>\n",
       "    <tr>\n",
       "      <th>0</th>\n",
       "      <td>318</td>\n",
       "      <td>Shawshank Redemption, The (1994)</td>\n",
       "      <td>Crime|Drama</td>\n",
       "      <td>4.429022</td>\n",
       "    </tr>\n",
       "    <tr>\n",
       "      <th>1</th>\n",
       "      <td>858</td>\n",
       "      <td>Godfather, The (1972)</td>\n",
       "      <td>Crime|Drama</td>\n",
       "      <td>4.289062</td>\n",
       "    </tr>\n",
       "    <tr>\n",
       "      <th>2</th>\n",
       "      <td>2959</td>\n",
       "      <td>Fight Club (1999)</td>\n",
       "      <td>Action|Crime|Drama|Thriller</td>\n",
       "      <td>4.272936</td>\n",
       "    </tr>\n",
       "    <tr>\n",
       "      <th>3</th>\n",
       "      <td>1221</td>\n",
       "      <td>Godfather: Part II, The (1974)</td>\n",
       "      <td>Crime|Drama</td>\n",
       "      <td>4.259690</td>\n",
       "    </tr>\n",
       "    <tr>\n",
       "      <th>4</th>\n",
       "      <td>48516</td>\n",
       "      <td>Departed, The (2006)</td>\n",
       "      <td>Crime|Drama|Thriller</td>\n",
       "      <td>4.252336</td>\n",
       "    </tr>\n",
       "    <tr>\n",
       "      <th>5</th>\n",
       "      <td>1213</td>\n",
       "      <td>Goodfellas (1990)</td>\n",
       "      <td>Crime|Drama</td>\n",
       "      <td>4.250000</td>\n",
       "    </tr>\n",
       "    <tr>\n",
       "      <th>6</th>\n",
       "      <td>58559</td>\n",
       "      <td>Dark Knight, The (2008)</td>\n",
       "      <td>Action|Crime|Drama|IMAX</td>\n",
       "      <td>4.238255</td>\n",
       "    </tr>\n",
       "    <tr>\n",
       "      <th>7</th>\n",
       "      <td>50</td>\n",
       "      <td>Usual Suspects, The (1995)</td>\n",
       "      <td>Crime|Mystery|Thriller</td>\n",
       "      <td>4.237745</td>\n",
       "    </tr>\n",
       "    <tr>\n",
       "      <th>8</th>\n",
       "      <td>1197</td>\n",
       "      <td>Princess Bride, The (1987)</td>\n",
       "      <td>Action|Adventure|Comedy|Fantasy|Romance</td>\n",
       "      <td>4.232394</td>\n",
       "    </tr>\n",
       "    <tr>\n",
       "      <th>9</th>\n",
       "      <td>260</td>\n",
       "      <td>Star Wars: Episode IV - A New Hope (1977)</td>\n",
       "      <td>Action|Adventure|Sci-Fi</td>\n",
       "      <td>4.231076</td>\n",
       "    </tr>\n",
       "  </tbody>\n",
       "</table>\n",
       "</div>"
      ],
      "text/plain": [
       "   movieId                                      title  \\\n",
       "0      318           Shawshank Redemption, The (1994)   \n",
       "1      858                      Godfather, The (1972)   \n",
       "2     2959                          Fight Club (1999)   \n",
       "3     1221             Godfather: Part II, The (1974)   \n",
       "4    48516                       Departed, The (2006)   \n",
       "5     1213                          Goodfellas (1990)   \n",
       "6    58559                    Dark Knight, The (2008)   \n",
       "7       50                 Usual Suspects, The (1995)   \n",
       "8     1197                 Princess Bride, The (1987)   \n",
       "9      260  Star Wars: Episode IV - A New Hope (1977)   \n",
       "\n",
       "                                    genres  mean_rating  \n",
       "0                              Crime|Drama     4.429022  \n",
       "1                              Crime|Drama     4.289062  \n",
       "2              Action|Crime|Drama|Thriller     4.272936  \n",
       "3                              Crime|Drama     4.259690  \n",
       "4                     Crime|Drama|Thriller     4.252336  \n",
       "5                              Crime|Drama     4.250000  \n",
       "6                  Action|Crime|Drama|IMAX     4.238255  \n",
       "7                   Crime|Mystery|Thriller     4.237745  \n",
       "8  Action|Adventure|Comedy|Fantasy|Romance     4.232394  \n",
       "9                  Action|Adventure|Sci-Fi     4.231076  "
      ]
     },
     "execution_count": 10,
     "metadata": {},
     "output_type": "execute_result"
    }
   ],
   "source": [
    "def popularity_recommender():\n",
    "    \n",
    "    n = input('Enter number of movies do you want to display: ')\n",
    "\n",
    "    movies_info_columns = ['movieId', 'title', 'genres']\n",
    "\n",
    "    filtered_movies = rating_count_df[(rating_count_df['mean'] > 4) & (rating_count_df['count'] > 100)]\n",
    "\n",
    "    filtered_movies_sorted = filtered_movies.sort_values(by='mean', ascending=False)\n",
    "\n",
    "    filtered_moviesId = filtered_movies_sorted['movieId'].values\n",
    "\n",
    "    filtered_moviesId_mask = ratings_df['movieId'].isin(filtered_moviesId)\n",
    "\n",
    "    filtered_movies_info = ratings_df.loc[filtered_moviesId_mask, 'movieId'].drop_duplicates()\n",
    "\n",
    "    mean_ratings = ratings_df.groupby('movieId')['rating'].mean().reset_index()\n",
    "    filtered_movies_info = pd.merge(filtered_movies_info, movies_df, on='movieId', how='left')\n",
    "    filtered_movies_info = pd.merge(filtered_movies_info, mean_ratings, on='movieId', how='left')\n",
    "    filtered_movies_info.rename(columns={'rating': 'mean_rating'}, inplace=True)\n",
    "\n",
    "    filtered_movies_info = filtered_movies_info.set_index('movieId').loc[filtered_moviesId].reset_index()\n",
    "    \n",
    "    return(filtered_movies_info.head(int(n)))\n",
    "\n",
    "popularity_recommender()"
   ]
  },
  {
   "cell_type": "code",
   "execution_count": 13,
   "metadata": {},
   "outputs": [],
   "source": [
    "filtered_movies_for_image = popularity_recommender()"
   ]
  },
  {
   "cell_type": "code",
   "execution_count": 14,
   "metadata": {},
   "outputs": [],
   "source": [
    "filtered_movies_info_imdb = pd.merge(filtered_movies_for_image, links_df, on='movieId', how='left')"
   ]
  },
  {
   "cell_type": "code",
   "execution_count": 16,
   "metadata": {},
   "outputs": [
    {
     "data": {
      "text/plain": [
       "0    111161\n",
       "1     68646\n",
       "2    137523\n",
       "3     71562\n",
       "4    407887\n",
       "5     99685\n",
       "6    468569\n",
       "7    114814\n",
       "8     93779\n",
       "9     76759\n",
       "Name: imdbId, dtype: int64"
      ]
     },
     "execution_count": 16,
     "metadata": {},
     "output_type": "execute_result"
    }
   ],
   "source": [
    "filtered_movies_info_imdb = filtered_movies_info_imdb['imdbId']\n",
    "filtered_movies_info_imdb "
   ]
  },
  {
   "cell_type": "markdown",
   "metadata": {},
   "source": [
    "# Item-based recommender"
   ]
  },
  {
   "cell_type": "markdown",
   "metadata": {},
   "source": [
    "Cosine similarity correlation"
   ]
  },
  {
   "cell_type": "code",
   "execution_count": 83,
   "metadata": {},
   "outputs": [
    {
     "name": "stdout",
     "output_type": "stream",
     "text": [
      "Found movie: 'Toy Story (1995)' with Movie ID: 1\n"
     ]
    },
    {
     "data": {
      "text/html": [
       "<div>\n",
       "<style scoped>\n",
       "    .dataframe tbody tr th:only-of-type {\n",
       "        vertical-align: middle;\n",
       "    }\n",
       "\n",
       "    .dataframe tbody tr th {\n",
       "        vertical-align: top;\n",
       "    }\n",
       "\n",
       "    .dataframe thead th {\n",
       "        text-align: right;\n",
       "    }\n",
       "</style>\n",
       "<table border=\"1\" class=\"dataframe\">\n",
       "  <thead>\n",
       "    <tr style=\"text-align: right;\">\n",
       "      <th></th>\n",
       "      <th>movieId</th>\n",
       "      <th>title</th>\n",
       "      <th>genres</th>\n",
       "      <th>toy story_cosine</th>\n",
       "      <th>users_who_rated_both_movies</th>\n",
       "    </tr>\n",
       "  </thead>\n",
       "  <tbody>\n",
       "    <tr>\n",
       "      <th>0</th>\n",
       "      <td>3114</td>\n",
       "      <td>Toy Story 2 (1999)</td>\n",
       "      <td>Adventure|Animation|Children|Comedy|Fantasy</td>\n",
       "      <td>0.572601</td>\n",
       "      <td>81</td>\n",
       "    </tr>\n",
       "    <tr>\n",
       "      <th>1</th>\n",
       "      <td>480</td>\n",
       "      <td>Jurassic Park (1993)</td>\n",
       "      <td>Action|Adventure|Sci-Fi|Thriller</td>\n",
       "      <td>0.565637</td>\n",
       "      <td>132</td>\n",
       "    </tr>\n",
       "    <tr>\n",
       "      <th>2</th>\n",
       "      <td>780</td>\n",
       "      <td>Independence Day (a.k.a. ID4) (1996)</td>\n",
       "      <td>Action|Adventure|Sci-Fi|Thriller</td>\n",
       "      <td>0.564262</td>\n",
       "      <td>122</td>\n",
       "    </tr>\n",
       "    <tr>\n",
       "      <th>3</th>\n",
       "      <td>260</td>\n",
       "      <td>Star Wars: Episode IV - A New Hope (1977)</td>\n",
       "      <td>Action|Adventure|Sci-Fi</td>\n",
       "      <td>0.557388</td>\n",
       "      <td>134</td>\n",
       "    </tr>\n",
       "    <tr>\n",
       "      <th>4</th>\n",
       "      <td>356</td>\n",
       "      <td>Forrest Gump (1994)</td>\n",
       "      <td>Comedy|Drama|Romance|War</td>\n",
       "      <td>0.547096</td>\n",
       "      <td>154</td>\n",
       "    </tr>\n",
       "    <tr>\n",
       "      <th>5</th>\n",
       "      <td>364</td>\n",
       "      <td>Lion King, The (1994)</td>\n",
       "      <td>Adventure|Animation|Children|Drama|Musical|IMAX</td>\n",
       "      <td>0.541145</td>\n",
       "      <td>107</td>\n",
       "    </tr>\n",
       "    <tr>\n",
       "      <th>6</th>\n",
       "      <td>1210</td>\n",
       "      <td>Star Wars: Episode VI - Return of the Jedi (1983)</td>\n",
       "      <td>Action|Adventure|Sci-Fi</td>\n",
       "      <td>0.541089</td>\n",
       "      <td>116</td>\n",
       "    </tr>\n",
       "    <tr>\n",
       "      <th>7</th>\n",
       "      <td>648</td>\n",
       "      <td>Mission: Impossible (1996)</td>\n",
       "      <td>Action|Adventure|Mystery|Thriller</td>\n",
       "      <td>0.538913</td>\n",
       "      <td>106</td>\n",
       "    </tr>\n",
       "    <tr>\n",
       "      <th>8</th>\n",
       "      <td>1265</td>\n",
       "      <td>Groundhog Day (1993)</td>\n",
       "      <td>Comedy|Fantasy|Romance</td>\n",
       "      <td>0.534169</td>\n",
       "      <td>97</td>\n",
       "    </tr>\n",
       "    <tr>\n",
       "      <th>9</th>\n",
       "      <td>1270</td>\n",
       "      <td>Back to the Future (1985)</td>\n",
       "      <td>Adventure|Comedy|Sci-Fi</td>\n",
       "      <td>0.530381</td>\n",
       "      <td>106</td>\n",
       "    </tr>\n",
       "  </tbody>\n",
       "</table>\n",
       "</div>"
      ],
      "text/plain": [
       "   movieId                                              title  \\\n",
       "0     3114                                 Toy Story 2 (1999)   \n",
       "1      480                               Jurassic Park (1993)   \n",
       "2      780               Independence Day (a.k.a. ID4) (1996)   \n",
       "3      260          Star Wars: Episode IV - A New Hope (1977)   \n",
       "4      356                                Forrest Gump (1994)   \n",
       "5      364                              Lion King, The (1994)   \n",
       "6     1210  Star Wars: Episode VI - Return of the Jedi (1983)   \n",
       "7      648                         Mission: Impossible (1996)   \n",
       "8     1265                               Groundhog Day (1993)   \n",
       "9     1270                          Back to the Future (1985)   \n",
       "\n",
       "                                            genres  toy story_cosine  \\\n",
       "0      Adventure|Animation|Children|Comedy|Fantasy          0.572601   \n",
       "1                 Action|Adventure|Sci-Fi|Thriller          0.565637   \n",
       "2                 Action|Adventure|Sci-Fi|Thriller          0.564262   \n",
       "3                          Action|Adventure|Sci-Fi          0.557388   \n",
       "4                         Comedy|Drama|Romance|War          0.547096   \n",
       "5  Adventure|Animation|Children|Drama|Musical|IMAX          0.541145   \n",
       "6                          Action|Adventure|Sci-Fi          0.541089   \n",
       "7                Action|Adventure|Mystery|Thriller          0.538913   \n",
       "8                           Comedy|Fantasy|Romance          0.534169   \n",
       "9                          Adventure|Comedy|Sci-Fi          0.530381   \n",
       "\n",
       "   users_who_rated_both_movies  \n",
       "0                           81  \n",
       "1                          132  \n",
       "2                          122  \n",
       "3                          134  \n",
       "4                          154  \n",
       "5                          107  \n",
       "6                          116  \n",
       "7                          106  \n",
       "8                           97  \n",
       "9                          106  "
      ]
     },
     "execution_count": 83,
     "metadata": {},
     "output_type": "execute_result"
    }
   ],
   "source": [
    "def Top_N_recomendations():\n",
    "\n",
    "  # name = input('Enter the name of the movie: ')\n",
    "  # result = movies_df[movies_df['title'] == name]['movieId']\n",
    "\n",
    "  # if not result.empty:\n",
    "  #   movie_id = result.iloc[0]\n",
    "  # else:\n",
    "  #   print(f\"No movie found with the title '{name}'.\")\n",
    "\n",
    "  # n = input('Enter the amount of similar movies you want to find: ')\n",
    "  movie_titles = movies_df['title'].tolist()\n",
    "\n",
    "  name = input('Enter the name of the movie: ')\n",
    "\n",
    "  # Search for a movie title that contains the input name\n",
    "  matching_titles = [title for title in movie_titles if name.lower() in title.lower()]\n",
    "\n",
    "  if matching_titles:\n",
    "    # Automatically choose the first matching title\n",
    "    selected_movie_title = matching_titles[0]\n",
    "    result = movies_df[movies_df['title'] == selected_movie_title]['movieId']\n",
    "\n",
    "    if not result.empty:\n",
    "        movie_id = result.iloc[0]\n",
    "        \n",
    "    else:\n",
    "        print(f\"No movie found with the title '{selected_movie_title}'.\")\n",
    "  else:\n",
    "    print(f\"No movie found containing '{name}'.\")\n",
    "\n",
    "  n = input('Enter the amount of similar movies you want to find: ')\n",
    "  user_movie_matrix = pd.pivot_table(data=ratings_df,\n",
    "                                  values='rating',\n",
    "                                  index='userId',\n",
    "                                  columns='movieId',\n",
    "                                  fill_value=0)\n",
    "\n",
    "  movies_cosines_matrix = pd.DataFrame(cosine_similarity(user_movie_matrix.T),\n",
    "                                    columns=user_movie_matrix.columns,\n",
    "                                    index=user_movie_matrix.columns)\n",
    "\n",
    " \n",
    "\n",
    "  \n",
    "\n",
    "  movies_cosines_df = pd.DataFrame(movies_cosines_matrix[movie_id])\n",
    "\n",
    "\n",
    "  movies_cosines_df = movies_cosines_df.rename(columns={movie_id: name})\n",
    "\n",
    "  movies_cosines_df = movies_cosines_df[movies_cosines_df.index != movie_id]\n",
    "\n",
    "\n",
    "  movies_cosines_df = movies_cosines_df.sort_values(by=name, ascending=False)\n",
    "\n",
    "\n",
    "  no_of_users_rated_both_movies = [sum((user_movie_matrix[movie_id] > 0) & (user_movie_matrix[i] > 0)) for i in movies_cosines_df.index]\n",
    "\n",
    "\n",
    "  movies_cosines_df['users_who_rated_both_movies'] = no_of_users_rated_both_movies\n",
    "\n",
    "\n",
    "  movies_cosines_df = movies_cosines_df[movies_cosines_df[\"users_who_rated_both_movies\"] > 10]\n",
    "\n",
    "  movies_cosines_df = movies_cosines_df.rename(columns={name: f'{name}_cosine'})\n",
    "\n",
    "  movies_info_columns = ['movieId', 'title', 'genres']\n",
    "\n",
    "  top_n_recomendations = (movies_cosines_df\n",
    "                              .head(int(n))\n",
    "                              .reset_index()\n",
    "                              .merge(movies_df.drop_duplicates(subset='movieId'),\n",
    "                                     on='movieId',\n",
    "                                     how='left')\n",
    "                              [movies_info_columns + [f'{name}_cosine',\t'users_who_rated_both_movies']] \n",
    "                              )\n",
    "\n",
    "\n",
    "  return(top_n_recomendations)\n",
    "\n",
    "Top_N_recomendations()"
   ]
  },
  {
   "cell_type": "markdown",
   "metadata": {},
   "source": [
    "# User-based recommender"
   ]
  },
  {
   "cell_type": "markdown",
   "metadata": {},
   "source": [
    "## Testing KNN"
   ]
  },
  {
   "cell_type": "code",
   "execution_count": 33,
   "metadata": {},
   "outputs": [],
   "source": [
    "from surprise import Reader, Dataset, KNNBasic, accuracy\n",
    "from surprise.model_selection import train_test_split"
   ]
  },
  {
   "cell_type": "code",
   "execution_count": 11,
   "metadata": {},
   "outputs": [],
   "source": [
    "data = ratings_df[['userId', 'movieId', 'rating']]"
   ]
  },
  {
   "cell_type": "code",
   "execution_count": 12,
   "metadata": {},
   "outputs": [],
   "source": [
    "reader = Reader(rating_scale=(0, 5))\n",
    "data = Dataset.load_from_df(data, reader)"
   ]
  },
  {
   "cell_type": "code",
   "execution_count": 13,
   "metadata": {},
   "outputs": [],
   "source": [
    "trainset, testset = train_test_split(data, test_size=0.2, random_state=142)"
   ]
  },
  {
   "cell_type": "code",
   "execution_count": 14,
   "metadata": {},
   "outputs": [],
   "source": [
    "sim_options = {\n",
    "    'name': 'cosine',\n",
    "    'user_based': True\n",
    "}\n",
    "\n",
    "knn = KNNBasic(sim_options=sim_options)"
   ]
  },
  {
   "cell_type": "code",
   "execution_count": 15,
   "metadata": {},
   "outputs": [
    {
     "name": "stdout",
     "output_type": "stream",
     "text": [
      "Computing the cosine similarity matrix...\n",
      "Done computing similarity matrix.\n"
     ]
    },
    {
     "data": {
      "text/plain": [
       "<surprise.prediction_algorithms.knns.KNNBasic at 0x18394d7ddd0>"
      ]
     },
     "execution_count": 15,
     "metadata": {},
     "output_type": "execute_result"
    }
   ],
   "source": [
    "knn.fit(trainset)"
   ]
  },
  {
   "cell_type": "code",
   "execution_count": 16,
   "metadata": {},
   "outputs": [],
   "source": [
    "predictions = knn.test(testset)"
   ]
  },
  {
   "cell_type": "code",
   "execution_count": 17,
   "metadata": {},
   "outputs": [
    {
     "data": {
      "text/plain": [
       "[Prediction(uid=380, iid=2085, r_ui=3.0, est=3.5191062895722083, details={'actual_k': 30, 'was_impossible': False}),\n",
       " Prediction(uid=367, iid=513, r_ui=4.0, est=2.9999999999999996, details={'actual_k': 2, 'was_impossible': False}),\n",
       " Prediction(uid=570, iid=349, r_ui=4.0, est=3.7123899526005637, details={'actual_k': 40, 'was_impossible': False}),\n",
       " Prediction(uid=288, iid=2018, r_ui=3.0, est=3.391371971142089, details={'actual_k': 29, 'was_impossible': False}),\n",
       " Prediction(uid=446, iid=266, r_ui=2.0, est=3.4014122408648797, details={'actual_k': 40, 'was_impossible': False})]"
      ]
     },
     "execution_count": 17,
     "metadata": {},
     "output_type": "execute_result"
    }
   ],
   "source": [
    "predictions[:5]"
   ]
  },
  {
   "cell_type": "code",
   "execution_count": 18,
   "metadata": {},
   "outputs": [
    {
     "data": {
      "text/html": [
       "<div>\n",
       "<style scoped>\n",
       "    .dataframe tbody tr th:only-of-type {\n",
       "        vertical-align: middle;\n",
       "    }\n",
       "\n",
       "    .dataframe tbody tr th {\n",
       "        vertical-align: top;\n",
       "    }\n",
       "\n",
       "    .dataframe thead th {\n",
       "        text-align: right;\n",
       "    }\n",
       "</style>\n",
       "<table border=\"1\" class=\"dataframe\">\n",
       "  <thead>\n",
       "    <tr style=\"text-align: right;\">\n",
       "      <th></th>\n",
       "      <th>raw_user_id</th>\n",
       "      <th>raw_item_id</th>\n",
       "      <th>actual_user_rating</th>\n",
       "      <th>estimated_user_rating</th>\n",
       "      <th>details</th>\n",
       "    </tr>\n",
       "  </thead>\n",
       "  <tbody>\n",
       "    <tr>\n",
       "      <th>0</th>\n",
       "      <td>380</td>\n",
       "      <td>2085</td>\n",
       "      <td>3.0</td>\n",
       "      <td>3.519106</td>\n",
       "      <td>{'actual_k': 30, 'was_impossible': False}</td>\n",
       "    </tr>\n",
       "    <tr>\n",
       "      <th>1</th>\n",
       "      <td>367</td>\n",
       "      <td>513</td>\n",
       "      <td>4.0</td>\n",
       "      <td>3.000000</td>\n",
       "      <td>{'actual_k': 2, 'was_impossible': False}</td>\n",
       "    </tr>\n",
       "    <tr>\n",
       "      <th>2</th>\n",
       "      <td>570</td>\n",
       "      <td>349</td>\n",
       "      <td>4.0</td>\n",
       "      <td>3.712390</td>\n",
       "      <td>{'actual_k': 40, 'was_impossible': False}</td>\n",
       "    </tr>\n",
       "    <tr>\n",
       "      <th>3</th>\n",
       "      <td>288</td>\n",
       "      <td>2018</td>\n",
       "      <td>3.0</td>\n",
       "      <td>3.391372</td>\n",
       "      <td>{'actual_k': 29, 'was_impossible': False}</td>\n",
       "    </tr>\n",
       "    <tr>\n",
       "      <th>4</th>\n",
       "      <td>446</td>\n",
       "      <td>266</td>\n",
       "      <td>2.0</td>\n",
       "      <td>3.401412</td>\n",
       "      <td>{'actual_k': 40, 'was_impossible': False}</td>\n",
       "    </tr>\n",
       "  </tbody>\n",
       "</table>\n",
       "</div>"
      ],
      "text/plain": [
       "   raw_user_id  raw_item_id  actual_user_rating  estimated_user_rating  \\\n",
       "0          380         2085                 3.0               3.519106   \n",
       "1          367          513                 4.0               3.000000   \n",
       "2          570          349                 4.0               3.712390   \n",
       "3          288         2018                 3.0               3.391372   \n",
       "4          446          266                 2.0               3.401412   \n",
       "\n",
       "                                     details  \n",
       "0  {'actual_k': 30, 'was_impossible': False}  \n",
       "1   {'actual_k': 2, 'was_impossible': False}  \n",
       "2  {'actual_k': 40, 'was_impossible': False}  \n",
       "3  {'actual_k': 29, 'was_impossible': False}  \n",
       "4  {'actual_k': 40, 'was_impossible': False}  "
      ]
     },
     "execution_count": 18,
     "metadata": {},
     "output_type": "execute_result"
    }
   ],
   "source": [
    "predictions_df = pd.DataFrame(predictions, columns=[\"raw_user_id\", \"raw_item_id\", \"actual_user_rating\", \"estimated_user_rating\", \"details\"])\n",
    "predictions_df.head()"
   ]
  },
  {
   "cell_type": "code",
   "execution_count": 19,
   "metadata": {},
   "outputs": [
    {
     "name": "stdout",
     "output_type": "stream",
     "text": [
      "MAE:  0.7466\n"
     ]
    },
    {
     "data": {
      "text/plain": [
       "0.7465676186021254"
      ]
     },
     "execution_count": 19,
     "metadata": {},
     "output_type": "execute_result"
    }
   ],
   "source": [
    "accuracy.mae(predictions)"
   ]
  },
  {
   "cell_type": "code",
   "execution_count": 20,
   "metadata": {},
   "outputs": [
    {
     "name": "stdout",
     "output_type": "stream",
     "text": [
      "RMSE: 0.9706\n"
     ]
    },
    {
     "data": {
      "text/plain": [
       "0.9706404973871133"
      ]
     },
     "execution_count": 20,
     "metadata": {},
     "output_type": "execute_result"
    }
   ],
   "source": [
    "accuracy.rmse(predictions)"
   ]
  },
  {
   "cell_type": "code",
   "execution_count": 21,
   "metadata": {},
   "outputs": [
    {
     "name": "stdout",
     "output_type": "stream",
     "text": [
      "FCP:  0.6685\n"
     ]
    },
    {
     "data": {
      "text/plain": [
       "0.6684847446082518"
      ]
     },
     "execution_count": 21,
     "metadata": {},
     "output_type": "execute_result"
    }
   ],
   "source": [
    "accuracy.fcp(predictions)"
   ]
  },
  {
   "cell_type": "code",
   "execution_count": 22,
   "metadata": {},
   "outputs": [],
   "source": [
    "predictions_df[\"difference\"] = predictions_df[\"actual_user_rating\"] - predictions_df[\"estimated_user_rating\"]"
   ]
  },
  {
   "cell_type": "code",
   "execution_count": 23,
   "metadata": {},
   "outputs": [
    {
     "data": {
      "image/png": "[encoded data removed]",
      "text/plain": [
       "<Figure size 1000x800 with 1 Axes>"
      ]
     },
     "metadata": {},
     "output_type": "display_data"
    }
   ],
   "source": [
    "predictions_df[\"difference\"].hist(bins=30,\n",
    "                                  figsize=(10, 8));"
   ]
  },
  {
   "cell_type": "code",
   "execution_count": 26,
   "metadata": {},
   "outputs": [
    {
     "data": {
      "image/png": "[encoded data removed]",
      "text/plain": [
       "<Figure size 1000x800 with 1 Axes>"
      ]
     },
     "metadata": {},
     "output_type": "display_data"
    }
   ],
   "source": [
    "predictions_df.plot(kind='box',\n",
    "                    column='estimated_user_rating',\n",
    "                    by='actual_user_rating',\n",
    "                    figsize=(10, 8));"
   ]
  },
  {
   "cell_type": "markdown",
   "metadata": {},
   "source": [
    "## Testing SVD"
   ]
  },
  {
   "cell_type": "code",
   "execution_count": 56,
   "metadata": {},
   "outputs": [],
   "source": [
    "from surprise import SVD\n"
   ]
  },
  {
   "cell_type": "code",
   "execution_count": 57,
   "metadata": {},
   "outputs": [
    {
     "data": {
      "text/plain": [
       "<surprise.prediction_algorithms.matrix_factorization.SVD at 0x18399a8b690>"
      ]
     },
     "execution_count": 57,
     "metadata": {},
     "output_type": "execute_result"
    }
   ],
   "source": [
    "svd = SVD()\n",
    "svd.fit(trainset)"
   ]
  },
  {
   "cell_type": "code",
   "execution_count": 58,
   "metadata": {},
   "outputs": [],
   "source": [
    "predictions_svd = svd.test(testset)"
   ]
  },
  {
   "cell_type": "code",
   "execution_count": 26,
   "metadata": {},
   "outputs": [
    {
     "data": {
      "text/html": [
       "<div>\n",
       "<style scoped>\n",
       "    .dataframe tbody tr th:only-of-type {\n",
       "        vertical-align: middle;\n",
       "    }\n",
       "\n",
       "    .dataframe tbody tr th {\n",
       "        vertical-align: top;\n",
       "    }\n",
       "\n",
       "    .dataframe thead th {\n",
       "        text-align: right;\n",
       "    }\n",
       "</style>\n",
       "<table border=\"1\" class=\"dataframe\">\n",
       "  <thead>\n",
       "    <tr style=\"text-align: right;\">\n",
       "      <th></th>\n",
       "      <th>raw_user_id</th>\n",
       "      <th>raw_item_id</th>\n",
       "      <th>actual_user_rating</th>\n",
       "      <th>estimated_user_rating</th>\n",
       "      <th>details</th>\n",
       "    </tr>\n",
       "  </thead>\n",
       "  <tbody>\n",
       "    <tr>\n",
       "      <th>0</th>\n",
       "      <td>380</td>\n",
       "      <td>2085</td>\n",
       "      <td>3.0</td>\n",
       "      <td>3.563751</td>\n",
       "      <td>{'was_impossible': False}</td>\n",
       "    </tr>\n",
       "    <tr>\n",
       "      <th>1</th>\n",
       "      <td>367</td>\n",
       "      <td>513</td>\n",
       "      <td>4.0</td>\n",
       "      <td>3.856962</td>\n",
       "      <td>{'was_impossible': False}</td>\n",
       "    </tr>\n",
       "    <tr>\n",
       "      <th>2</th>\n",
       "      <td>570</td>\n",
       "      <td>349</td>\n",
       "      <td>4.0</td>\n",
       "      <td>3.213756</td>\n",
       "      <td>{'was_impossible': False}</td>\n",
       "    </tr>\n",
       "    <tr>\n",
       "      <th>3</th>\n",
       "      <td>288</td>\n",
       "      <td>2018</td>\n",
       "      <td>3.0</td>\n",
       "      <td>3.045479</td>\n",
       "      <td>{'was_impossible': False}</td>\n",
       "    </tr>\n",
       "    <tr>\n",
       "      <th>4</th>\n",
       "      <td>446</td>\n",
       "      <td>266</td>\n",
       "      <td>2.0</td>\n",
       "      <td>3.322756</td>\n",
       "      <td>{'was_impossible': False}</td>\n",
       "    </tr>\n",
       "  </tbody>\n",
       "</table>\n",
       "</div>"
      ],
      "text/plain": [
       "   raw_user_id  raw_item_id  actual_user_rating  estimated_user_rating  \\\n",
       "0          380         2085                 3.0               3.563751   \n",
       "1          367          513                 4.0               3.856962   \n",
       "2          570          349                 4.0               3.213756   \n",
       "3          288         2018                 3.0               3.045479   \n",
       "4          446          266                 2.0               3.322756   \n",
       "\n",
       "                     details  \n",
       "0  {'was_impossible': False}  \n",
       "1  {'was_impossible': False}  \n",
       "2  {'was_impossible': False}  \n",
       "3  {'was_impossible': False}  \n",
       "4  {'was_impossible': False}  "
      ]
     },
     "execution_count": 26,
     "metadata": {},
     "output_type": "execute_result"
    }
   ],
   "source": [
    "predictions_df = pd.DataFrame(predictions_svd, columns=[\"raw_user_id\", \"raw_item_id\", \"actual_user_rating\", \"estimated_user_rating\", \"details\"])\n",
    "predictions_df.head()"
   ]
  },
  {
   "cell_type": "code",
   "execution_count": 27,
   "metadata": {},
   "outputs": [
    {
     "name": "stdout",
     "output_type": "stream",
     "text": [
      "MAE:  0.6694\n"
     ]
    },
    {
     "data": {
      "text/plain": [
       "0.6693577021424181"
      ]
     },
     "execution_count": 27,
     "metadata": {},
     "output_type": "execute_result"
    }
   ],
   "source": [
    "accuracy.mae(predictions_svd)"
   ]
  },
  {
   "cell_type": "code",
   "execution_count": 28,
   "metadata": {},
   "outputs": [
    {
     "name": "stdout",
     "output_type": "stream",
     "text": [
      "RMSE: 0.8716\n"
     ]
    },
    {
     "data": {
      "text/plain": [
       "0.8716326361759701"
      ]
     },
     "execution_count": 28,
     "metadata": {},
     "output_type": "execute_result"
    }
   ],
   "source": [
    "accuracy.rmse(predictions_svd)"
   ]
  },
  {
   "cell_type": "code",
   "execution_count": 31,
   "metadata": {},
   "outputs": [
    {
     "name": "stdout",
     "output_type": "stream",
     "text": [
      "FCP:  0.6583\n"
     ]
    },
    {
     "data": {
      "text/plain": [
       "0.6582960456903406"
      ]
     },
     "execution_count": 31,
     "metadata": {},
     "output_type": "execute_result"
    }
   ],
   "source": [
    "accuracy.fcp(predictions_svd)"
   ]
  },
  {
   "cell_type": "markdown",
   "metadata": {},
   "source": [
    "## Testing several models"
   ]
  },
  {
   "cell_type": "code",
   "execution_count": 70,
   "metadata": {},
   "outputs": [],
   "source": [
    "from surprise import NMF\n",
    "from surprise.model_selection import cross_validate\n",
    "from collections import defaultdict\n",
    "import numpy as np"
   ]
  },
  {
   "cell_type": "code",
   "execution_count": 65,
   "metadata": {},
   "outputs": [],
   "source": [
    "# Define models and their parameter grids\n",
    "models = [\n",
    "    ('SVD', SVD, {'n_factors': [5, 10, 15], 'n_epochs': [20, 30]}),\n",
    "    ('NMF', NMF, {'n_factors': [5, 10, 15], 'n_epochs': [20, 30]}),\n",
    "    ('KNNBasic', KNNBasic, {'k': [20, 30, 40]})\n",
    "]\n"
   ]
  },
  {
   "cell_type": "code",
   "execution_count": 74,
   "metadata": {},
   "outputs": [
    {
     "name": "stdout",
     "output_type": "stream",
     "text": [
      "FCP:  0.6698\n",
      "FCP:  0.6732\n",
      "FCP:  0.6696\n",
      "FCP:  0.6693\n",
      "FCP:  0.6652\n",
      "FCP:  0.6671\n",
      "FCP:  0.6181\n",
      "FCP:  0.6257\n",
      "FCP:  0.6365\n",
      "FCP:  0.6344\n",
      "FCP:  0.6502\n",
      "FCP:  0.6424\n",
      "Computing the msd similarity matrix...\n",
      "Done computing similarity matrix.\n",
      "FCP:  0.6732\n",
      "Computing the msd similarity matrix...\n",
      "Done computing similarity matrix.\n",
      "FCP:  0.6739\n",
      "Computing the msd similarity matrix...\n",
      "Done computing similarity matrix.\n",
      "FCP:  0.6727\n",
      "Model: SVD, Best FCP Accuracy: 0.6731801567677105, Best Params: {'n_factors': 5, 'n_epochs': 30}\n",
      "Model: NMF, Best FCP Accuracy: 0.6502056207297665, Best Params: {'n_factors': 15, 'n_epochs': 20}\n",
      "Model: KNNBasic, Best FCP Accuracy: 0.6738907242550266, Best Params: {'k': 30}\n"
     ]
    }
   ],
   "source": [
    "\n",
    "\n",
    "# Define models and their parameter grids\n",
    "models = [\n",
    "    ('SVD', SVD, {'n_factors': [5, 10, 15], 'n_epochs': [20, 30]}),\n",
    "    ('NMF', NMF, {'n_factors': [5, 10, 15], 'n_epochs': [20, 30]}),\n",
    "    ('KNNBasic', KNNBasic, {'k': [20, 30, 40]})\n",
    "]\n",
    "\n",
    "results = []\n",
    "for model_name, model_class, param_grid in models:\n",
    "    best_fcp = 0\n",
    "    best_params = None\n",
    "\n",
    "    if model_name in ['SVD', 'NMF']:\n",
    "        for n_factors in param_grid['n_factors']:\n",
    "            for n_epochs in param_grid['n_epochs']:\n",
    "                # Create the model instance with specified hyperparameters\n",
    "                model = model_class(n_factors=n_factors, n_epochs=n_epochs)\n",
    "\n",
    "                # Train the model on the training data\n",
    "                model.fit(trainset)\n",
    "\n",
    "                # Compute FCP using accuracy.fcp\n",
    "                fcp = accuracy.fcp(model.test(testset))\n",
    "\n",
    "                # Update the best FCP and best_params if necessary\n",
    "                if fcp > best_fcp:\n",
    "                    best_fcp = fcp\n",
    "                    best_params = {'n_factors': n_factors, 'n_epochs': n_epochs}\n",
    "    elif model_name == 'KNNBasic':\n",
    "        for k in param_grid['k']:\n",
    "            # Create the model instance with specified hyperparameters\n",
    "            model = model_class(k=k)\n",
    "\n",
    "            # Train the model on the training data\n",
    "            model.fit(trainset)\n",
    "\n",
    "            # Compute FCP using accuracy.fcp\n",
    "            fcp = accuracy.fcp(model.test(testset))\n",
    "\n",
    "            # Update the best FCP and best_params if necessary\n",
    "            if fcp > best_fcp:\n",
    "                best_fcp = fcp\n",
    "                best_params = {'k': k}\n",
    "\n",
    "    # Store the results\n",
    "    results.append((model_name, best_fcp, best_params))\n",
    "\n",
    "# Print the results\n",
    "for model_name, best_fcp, best_params in results:\n",
    "    print(f\"Model: {model_name}, Best FCP Accuracy: {best_fcp}, Best Params: {best_params}\")\n"
   ]
  },
  {
   "cell_type": "markdown",
   "metadata": {},
   "source": [
    "## Making a Model"
   ]
  },
  {
   "cell_type": "code",
   "execution_count": 36,
   "metadata": {},
   "outputs": [
    {
     "name": "stdout",
     "output_type": "stream",
     "text": [
      "Computing the cosine similarity matrix...\n",
      "Done computing similarity matrix.\n"
     ]
    },
    {
     "data": {
      "text/plain": [
       "<surprise.prediction_algorithms.knns.KNNBasic at 0x18399f823d0>"
      ]
     },
     "execution_count": 36,
     "metadata": {},
     "output_type": "execute_result"
    }
   ],
   "source": [
    "sim_options = {\n",
    "    'name': 'cosine',\n",
    "    'user_based': True\n",
    "}\n",
    "\n",
    "full_train = data.build_full_trainset()\n",
    "algo = KNNBasic(sim_options=sim_options)\n",
    "algo.fit(trainset)"
   ]
  },
  {
   "cell_type": "code",
   "execution_count": 38,
   "metadata": {},
   "outputs": [],
   "source": [
    "testset = trainset.build_anti_testset()\n",
    "predictions = algo.test(testset)"
   ]
  },
  {
   "cell_type": "code",
   "execution_count": 114,
   "metadata": {},
   "outputs": [],
   "source": [
    "import pickle\n",
    "\n",
    "pickle.dump(algo, open(file=r'C:\\Users\\gusta\\Documents\\Data Science Bootcamp\\Data Science\\Chapter 8\\trained_pipe_knn.sav', mode='wb'))"
   ]
  },
  {
   "cell_type": "code",
   "execution_count": 39,
   "metadata": {},
   "outputs": [],
   "source": [
    "def get_top_n(predictions, user_id, n=10):\n",
    "\n",
    "  user_recommendations = []\n",
    "\n",
    "  # Iterate through each prediction tuple\n",
    "  for uid, iid, true_r, est, _ in predictions:\n",
    "    # Check if the user ID matches the target user\n",
    "    if user_id == uid:\n",
    "      # Append item_id and estimated_rating to the user_recommendations list\n",
    "      user_recommendations.append((iid, est))\n",
    "    else:\n",
    "      # Skip to the next prediction if user ID doesn't match\n",
    "      continue\n",
    "\n",
    "  # Sort the user_recommendations list based on estimated_rating in descending order\n",
    "  ordered_recommendations = sorted(user_recommendations, key=lambda x: x[1], reverse=True)\n",
    "\n",
    "  # Get the top n predictions from the ordered_recommendations\n",
    "  ordered_recommendations_top_n = ordered_recommendations[:n]\n",
    "\n",
    "  return ordered_recommendations_top_n"
   ]
  },
  {
   "cell_type": "code",
   "execution_count": 41,
   "metadata": {},
   "outputs": [
    {
     "data": {
      "text/plain": [
       "[(6021, 5),\n",
       " (2033, 5),\n",
       " (3303, 5),\n",
       " (173619, 5),\n",
       " (3939, 5),\n",
       " (98279, 5),\n",
       " (178827, 5),\n",
       " (3851, 5),\n",
       " (26849, 5),\n",
       " (147328, 5),\n",
       " (47736, 5),\n",
       " (26350, 5),\n",
       " (26078, 5),\n",
       " (3224, 5),\n",
       " (102217, 5),\n",
       " (126088, 5),\n",
       " (166568, 5),\n",
       " (2969, 5),\n",
       " (157775, 5),\n",
       " (87834, 5)]"
      ]
     },
     "execution_count": 41,
     "metadata": {},
     "output_type": "execute_result"
    }
   ],
   "source": [
    "user_id = 251\n",
    "n = 20\n",
    "\n",
    "top_n = get_top_n(predictions, user_id, n)\n",
    "top_n"
   ]
  },
  {
   "cell_type": "markdown",
   "metadata": {},
   "source": [
    "Method 2"
   ]
  },
  {
   "cell_type": "code",
   "execution_count": 105,
   "metadata": {},
   "outputs": [],
   "source": [
    "def get_top_n_2(model, user_id, item_ids, n=10):\n",
    "\n",
    "  user_recommendations = []\n",
    "\n",
    "  # Iterate through each item\n",
    "  for iid in item_ids:\n",
    "    #get the prediction for this user-item pair\n",
    "    _, _, _, est, _ = model.predict(user_id,iid)\n",
    "    # Append item_id and estimated_rating to the user_recommendations list\n",
    "    user_recommendations.append((iid, est))\n",
    "\n",
    "  # Sort the user_recommendations list based on estimated_rating in descending order\n",
    "  ordered_recommendations = sorted(user_recommendations, key=lambda x: x[1], reverse=True)\n",
    "\n",
    "  # Get the top n predictions from the ordered_recommendations\n",
    "  ordered_recommendations_top_n = ordered_recommendations[:n]\n",
    "\n",
    "  return ordered_recommendations_top_n"
   ]
  },
  {
   "cell_type": "code",
   "execution_count": 106,
   "metadata": {},
   "outputs": [
    {
     "data": {
      "text/plain": [
       "[(5181, 5),\n",
       " (5746, 5),\n",
       " (6835, 5),\n",
       " (3851, 5),\n",
       " (4273, 5),\n",
       " (238, 5),\n",
       " (446, 5),\n",
       " (112804, 5),\n",
       " (1151, 5),\n",
       " (1797, 5)]"
      ]
     },
     "execution_count": 106,
     "metadata": {},
     "output_type": "execute_result"
    }
   ],
   "source": [
    "user_id = 42\n",
    "n = 10\n",
    "unrated_movies=ratings_df[~ratings_df.movieId.isin(\n",
    "                                     ratings_df[ratings_df.userId==user_id].movieId.unique()\n",
    "                                    )\n",
    "                ].movieId.unique()\n",
    "top_n = get_top_n_2(algo, user_id, unrated_movies, n)\n",
    "top_n"
   ]
  },
  {
   "cell_type": "code",
   "execution_count": 107,
   "metadata": {},
   "outputs": [
    {
     "data": {
      "text/html": [
       "<div>\n",
       "<style scoped>\n",
       "    .dataframe tbody tr th:only-of-type {\n",
       "        vertical-align: middle;\n",
       "    }\n",
       "\n",
       "    .dataframe tbody tr th {\n",
       "        vertical-align: top;\n",
       "    }\n",
       "\n",
       "    .dataframe thead th {\n",
       "        text-align: right;\n",
       "    }\n",
       "</style>\n",
       "<table border=\"1\" class=\"dataframe\">\n",
       "  <thead>\n",
       "    <tr style=\"text-align: right;\">\n",
       "      <th></th>\n",
       "      <th>movieId</th>\n",
       "      <th>estimated_rating</th>\n",
       "      <th>title</th>\n",
       "      <th>genres</th>\n",
       "    </tr>\n",
       "  </thead>\n",
       "  <tbody>\n",
       "    <tr>\n",
       "      <th>0</th>\n",
       "      <td>5181</td>\n",
       "      <td>5</td>\n",
       "      <td>Hangar 18 (1980)</td>\n",
       "      <td>Action|Sci-Fi|Thriller</td>\n",
       "    </tr>\n",
       "    <tr>\n",
       "      <th>1</th>\n",
       "      <td>5746</td>\n",
       "      <td>5</td>\n",
       "      <td>Galaxy of Terror (Quest) (1981)</td>\n",
       "      <td>Action|Horror|Mystery|Sci-Fi</td>\n",
       "    </tr>\n",
       "    <tr>\n",
       "      <th>2</th>\n",
       "      <td>6835</td>\n",
       "      <td>5</td>\n",
       "      <td>Alien Contamination (1980)</td>\n",
       "      <td>Action|Horror|Sci-Fi</td>\n",
       "    </tr>\n",
       "    <tr>\n",
       "      <th>3</th>\n",
       "      <td>3851</td>\n",
       "      <td>5</td>\n",
       "      <td>I'm the One That I Want (2000)</td>\n",
       "      <td>Comedy</td>\n",
       "    </tr>\n",
       "    <tr>\n",
       "      <th>4</th>\n",
       "      <td>4273</td>\n",
       "      <td>5</td>\n",
       "      <td>Under the Sand (2000)</td>\n",
       "      <td>Drama</td>\n",
       "    </tr>\n",
       "    <tr>\n",
       "      <th>5</th>\n",
       "      <td>238</td>\n",
       "      <td>5</td>\n",
       "      <td>Far From Home: The Adventures of Yellow Dog (1...</td>\n",
       "      <td>Adventure|Children</td>\n",
       "    </tr>\n",
       "    <tr>\n",
       "      <th>6</th>\n",
       "      <td>446</td>\n",
       "      <td>5</td>\n",
       "      <td>Farewell My Concubine (Ba wang bie ji) (1993)</td>\n",
       "      <td>Drama|Romance</td>\n",
       "    </tr>\n",
       "    <tr>\n",
       "      <th>7</th>\n",
       "      <td>112804</td>\n",
       "      <td>5</td>\n",
       "      <td>I Origins (2014)</td>\n",
       "      <td>Drama|Sci-Fi</td>\n",
       "    </tr>\n",
       "    <tr>\n",
       "      <th>8</th>\n",
       "      <td>1151</td>\n",
       "      <td>5</td>\n",
       "      <td>Lesson Faust (1994)</td>\n",
       "      <td>Animation|Comedy|Drama|Fantasy</td>\n",
       "    </tr>\n",
       "    <tr>\n",
       "      <th>9</th>\n",
       "      <td>1797</td>\n",
       "      <td>5</td>\n",
       "      <td>Everest (1998)</td>\n",
       "      <td>Documentary|IMAX</td>\n",
       "    </tr>\n",
       "  </tbody>\n",
       "</table>\n",
       "</div>"
      ],
      "text/plain": [
       "   movieId  estimated_rating  \\\n",
       "0     5181                 5   \n",
       "1     5746                 5   \n",
       "2     6835                 5   \n",
       "3     3851                 5   \n",
       "4     4273                 5   \n",
       "5      238                 5   \n",
       "6      446                 5   \n",
       "7   112804                 5   \n",
       "8     1151                 5   \n",
       "9     1797                 5   \n",
       "\n",
       "                                               title  \\\n",
       "0                                   Hangar 18 (1980)   \n",
       "1                    Galaxy of Terror (Quest) (1981)   \n",
       "2                         Alien Contamination (1980)   \n",
       "3                     I'm the One That I Want (2000)   \n",
       "4                              Under the Sand (2000)   \n",
       "5  Far From Home: The Adventures of Yellow Dog (1...   \n",
       "6      Farewell My Concubine (Ba wang bie ji) (1993)   \n",
       "7                                   I Origins (2014)   \n",
       "8                                Lesson Faust (1994)   \n",
       "9                                     Everest (1998)   \n",
       "\n",
       "                           genres  \n",
       "0          Action|Sci-Fi|Thriller  \n",
       "1    Action|Horror|Mystery|Sci-Fi  \n",
       "2            Action|Horror|Sci-Fi  \n",
       "3                          Comedy  \n",
       "4                           Drama  \n",
       "5              Adventure|Children  \n",
       "6                   Drama|Romance  \n",
       "7                    Drama|Sci-Fi  \n",
       "8  Animation|Comedy|Drama|Fantasy  \n",
       "9                Documentary|IMAX  "
      ]
     },
     "execution_count": 107,
     "metadata": {},
     "output_type": "execute_result"
    }
   ],
   "source": [
    "# Creating a DataFrame from the top_n tuples with columns 'book_isbn' and 'estimated_rating'\n",
    "tuples_df = pd.DataFrame(top_n, columns=[\"movieId\", \"estimated_rating\"])\n",
    "\n",
    "# Creating a copy of the original DataFrame with duplicate 'book_isbn' entries removed\n",
    "reduced_df = movies_df.drop_duplicates(subset='movieId').copy()\n",
    "\n",
    "# Merging the tuples_df with the reduced_df based on 'book_isbn', retaining only the matching rows\n",
    "tuples_df_expanded = tuples_df.merge(reduced_df, on=\"movieId\", how='left')\n",
    "\n",
    "# Selecting specific columns from the merged DataFrame to include in the final result\n",
    "# tuples_df_expanded = tuples_df_expanded[['book_isbn', 'book_title', 'book_author', 'book_year_of_publication']]\n",
    "\n",
    "# Displaying the expanded DataFrame with relevant book information\n",
    "tuples_df_expanded"
   ]
  },
  {
   "cell_type": "code",
   "execution_count": 111,
   "metadata": {},
   "outputs": [
    {
     "name": "stdout",
     "output_type": "stream",
     "text": [
      "<class 'pandas.core.frame.DataFrame'>\n",
      "Int64Index: 10 entries, 0 to 9\n",
      "Data columns (total 4 columns):\n",
      " #   Column            Non-Null Count  Dtype \n",
      "---  ------            --------------  ----- \n",
      " 0   movieId           10 non-null     int64 \n",
      " 1   estimated_rating  10 non-null     int64 \n",
      " 2   title             10 non-null     object\n",
      " 3   genres            10 non-null     object\n",
      "dtypes: int64(2), object(2)\n",
      "memory usage: 400.0+ bytes\n"
     ]
    }
   ],
   "source": [
    "tuples_df_expanded.info()"
   ]
  },
  {
   "cell_type": "markdown",
   "metadata": {},
   "source": [
    "## Making a compact function"
   ]
  },
  {
   "cell_type": "code",
   "execution_count": 112,
   "metadata": {},
   "outputs": [
    {
     "data": {
      "text/html": [
       "<div>\n",
       "<style scoped>\n",
       "    .dataframe tbody tr th:only-of-type {\n",
       "        vertical-align: middle;\n",
       "    }\n",
       "\n",
       "    .dataframe tbody tr th {\n",
       "        vertical-align: top;\n",
       "    }\n",
       "\n",
       "    .dataframe thead th {\n",
       "        text-align: right;\n",
       "    }\n",
       "</style>\n",
       "<table border=\"1\" class=\"dataframe\">\n",
       "  <thead>\n",
       "    <tr style=\"text-align: right;\">\n",
       "      <th></th>\n",
       "      <th>movieId</th>\n",
       "      <th>estimated_rating</th>\n",
       "      <th>title</th>\n",
       "      <th>genres</th>\n",
       "    </tr>\n",
       "  </thead>\n",
       "  <tbody>\n",
       "    <tr>\n",
       "      <th>2</th>\n",
       "      <td>6835</td>\n",
       "      <td>5</td>\n",
       "      <td>Alien Contamination (1980)</td>\n",
       "      <td>Action|Horror|Sci-Fi</td>\n",
       "    </tr>\n",
       "    <tr>\n",
       "      <th>9</th>\n",
       "      <td>1797</td>\n",
       "      <td>5</td>\n",
       "      <td>Everest (1998)</td>\n",
       "      <td>Documentary|IMAX</td>\n",
       "    </tr>\n",
       "    <tr>\n",
       "      <th>5</th>\n",
       "      <td>238</td>\n",
       "      <td>5</td>\n",
       "      <td>Far From Home: The Adventures of Yellow Dog (1...</td>\n",
       "      <td>Adventure|Children</td>\n",
       "    </tr>\n",
       "    <tr>\n",
       "      <th>6</th>\n",
       "      <td>446</td>\n",
       "      <td>5</td>\n",
       "      <td>Farewell My Concubine (Ba wang bie ji) (1993)</td>\n",
       "      <td>Drama|Romance</td>\n",
       "    </tr>\n",
       "    <tr>\n",
       "      <th>1</th>\n",
       "      <td>5746</td>\n",
       "      <td>5</td>\n",
       "      <td>Galaxy of Terror (Quest) (1981)</td>\n",
       "      <td>Action|Horror|Mystery|Sci-Fi</td>\n",
       "    </tr>\n",
       "    <tr>\n",
       "      <th>0</th>\n",
       "      <td>5181</td>\n",
       "      <td>5</td>\n",
       "      <td>Hangar 18 (1980)</td>\n",
       "      <td>Action|Sci-Fi|Thriller</td>\n",
       "    </tr>\n",
       "    <tr>\n",
       "      <th>7</th>\n",
       "      <td>112804</td>\n",
       "      <td>5</td>\n",
       "      <td>I Origins (2014)</td>\n",
       "      <td>Drama|Sci-Fi</td>\n",
       "    </tr>\n",
       "    <tr>\n",
       "      <th>3</th>\n",
       "      <td>3851</td>\n",
       "      <td>5</td>\n",
       "      <td>I'm the One That I Want (2000)</td>\n",
       "      <td>Comedy</td>\n",
       "    </tr>\n",
       "    <tr>\n",
       "      <th>8</th>\n",
       "      <td>1151</td>\n",
       "      <td>5</td>\n",
       "      <td>Lesson Faust (1994)</td>\n",
       "      <td>Animation|Comedy|Drama|Fantasy</td>\n",
       "    </tr>\n",
       "    <tr>\n",
       "      <th>4</th>\n",
       "      <td>4273</td>\n",
       "      <td>5</td>\n",
       "      <td>Under the Sand (2000)</td>\n",
       "      <td>Drama</td>\n",
       "    </tr>\n",
       "  </tbody>\n",
       "</table>\n",
       "</div>"
      ],
      "text/plain": [
       "   movieId  estimated_rating  \\\n",
       "2     6835                 5   \n",
       "9     1797                 5   \n",
       "5      238                 5   \n",
       "6      446                 5   \n",
       "1     5746                 5   \n",
       "0     5181                 5   \n",
       "7   112804                 5   \n",
       "3     3851                 5   \n",
       "8     1151                 5   \n",
       "4     4273                 5   \n",
       "\n",
       "                                               title  \\\n",
       "2                         Alien Contamination (1980)   \n",
       "9                                     Everest (1998)   \n",
       "5  Far From Home: The Adventures of Yellow Dog (1...   \n",
       "6      Farewell My Concubine (Ba wang bie ji) (1993)   \n",
       "1                    Galaxy of Terror (Quest) (1981)   \n",
       "0                                   Hangar 18 (1980)   \n",
       "7                                   I Origins (2014)   \n",
       "3                     I'm the One That I Want (2000)   \n",
       "8                                Lesson Faust (1994)   \n",
       "4                              Under the Sand (2000)   \n",
       "\n",
       "                           genres  \n",
       "2            Action|Horror|Sci-Fi  \n",
       "9                Documentary|IMAX  \n",
       "5              Adventure|Children  \n",
       "6                   Drama|Romance  \n",
       "1    Action|Horror|Mystery|Sci-Fi  \n",
       "0          Action|Sci-Fi|Thriller  \n",
       "7                    Drama|Sci-Fi  \n",
       "3                          Comedy  \n",
       "8  Animation|Comedy|Drama|Fantasy  \n",
       "4                           Drama  "
      ]
     },
     "execution_count": 112,
     "metadata": {},
     "output_type": "execute_result"
    }
   ],
   "source": [
    "def get_top_n_2():\n",
    "  user_recommendations = []\n",
    "  user_id_str = input('Enter the user ID: ')\n",
    "  user_id = int(user_id_str)\n",
    "  n = input('Enter de number of movies you want to display: ')\n",
    "  unrated_movies=ratings_df[~ratings_df.movieId.isin(\n",
    "                                      ratings_df[ratings_df.userId==user_id].movieId.unique()\n",
    "                                      )\n",
    "                  ].movieId.unique()\n",
    "  for iid in unrated_movies:\n",
    "    _, _, _, est, _ = algo.predict(user_id,iid)\n",
    "    user_recommendations.append((iid, est))\n",
    "  ordered_recommendations = sorted(user_recommendations, key=lambda x: x[1], reverse=True)\n",
    "  ordered_recommendations_top_n = ordered_recommendations[:int(n)]  \n",
    "  top_n = ordered_recommendations_top_n\n",
    "  tuples_df = pd.DataFrame(top_n, columns=[\"movieId\", \"estimated_rating\"])\n",
    "  reduced_df = movies_df.drop_duplicates(subset='movieId').copy()\n",
    "  tuples_df_expanded = tuples_df.merge(reduced_df, on=\"movieId\", how='left')\n",
    "  tuples_df_expanded = tuples_df_expanded.sort_values(by=\"title\")\n",
    "  return(tuples_df_expanded) \n",
    "get_top_n_2()\n"
   ]
  },
  {
   "cell_type": "code",
   "execution_count": null,
   "metadata": {},
   "outputs": [],
   "source": [
    "import requests\n",
    "from bs4 import BeautifulSoup\n",
    "\n",
    "# Replace 'YOUR_IMDB_ID' with the IMDb ID of the movie you want to retrieve images for\n",
    "imdb_id = 'YOUR_IMDB_ID'\n",
    "\n",
    "# Construct the IMDb URL\n",
    "url = f\"https://www.imdb.com/title/{imdb_id}/\"\n",
    "\n",
    "# Send an HTTP GET request to the IMDb page\n",
    "response = requests.get(url)\n",
    "\n",
    "if response.status_code == 200:\n",
    "    soup = BeautifulSoup(response.content, 'html.parser')\n",
    "    \n",
    "    # Find the section of the page that contains images\n",
    "    image_section = soup.find('div', {'class': 'poster'})\n",
    "\n",
    "    if image_section:\n",
    "        # Find all image tags within the section\n",
    "        image_tags = image_section.find_all('img')\n",
    "        \n",
    "        # Download the images\n",
    "        for index, img in enumerate(image_tags):\n",
    "            image_url = img.get('src')\n",
    "            image_name = f\"{imdb_id}_image_{index}.jpg\"\n",
    "            with open(image_name, 'wb') as image_file:\n",
    "                image_file.write(requests.get(image_url).content)\n",
    "            print(f\"Downloaded: {image_name}\")\n",
    "    else:\n",
    "        print(\"No images found on the IMDb page.\")\n",
    "else:\n",
    "    print(\"Failed to retrieve IMDb page.\")\n",
    "\n"
   ]
  }
 ],
 "metadata": {
  "kernelspec": {
   "display_name": "base",
   "language": "python",
   "name": "python3"
  },
  "language_info": {
   "codemirror_mode": {
    "name": "ipython",
    "version": 3
   },
   "file_extension": ".py",
   "mimetype": "text/x-python",
   "name": "python",
   "nbconvert_exporter": "python",
   "pygments_lexer": "ipython3",
   "version": "3.11.3"
  },
  "orig_nbformat": 4
 },
 "nbformat": 4,
 "nbformat_minor": 2
}
